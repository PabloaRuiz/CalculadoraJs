{
  "nbformat": 4,
  "nbformat_minor": 0,
  "metadata": {
    "colab": {
      "name": "Untitled1.ipynb",
      "provenance": [],
      "authorship_tag": "ABX9TyN0T4oqQtFr/sml2vO3QYvL",
      "include_colab_link": true
    },
    "kernelspec": {
      "name": "python3",
      "display_name": "Python 3"
    }
  },
  "cells": [
    {
      "cell_type": "markdown",
      "metadata": {
        "id": "view-in-github",
        "colab_type": "text"
      },
      "source": [
        "<a href=\"https://colab.research.google.com/github/PabloaRuiz/CalculadoraJs/blob/master/Untitled1.ipynb\" target=\"_parent\"><img src=\"https://colab.research.google.com/assets/colab-badge.svg\" alt=\"Open In Colab\"/></a>"
      ]
    },
    {
      "cell_type": "code",
      "metadata": {
        "id": "jfWXDQoCYUMw",
        "colab_type": "code",
        "colab": {
          "base_uri": "https://localhost:8080/",
          "height": 221
        },
        "outputId": "84bf0def-88ee-4487-c1b9-939c01541761"
      },
      "source": [
        "print(\"Exercicio 1\")\n",
        "for c in range(10, -1, -1):\n",
        "  print(c)\n",
        "  "
      ],
      "execution_count": null,
      "outputs": [
        {
          "output_type": "stream",
          "text": [
            "Exercicio 1\n",
            "10\n",
            "9\n",
            "8\n",
            "7\n",
            "6\n",
            "5\n",
            "4\n",
            "3\n",
            "2\n",
            "1\n",
            "0\n"
          ],
          "name": "stdout"
        }
      ]
    },
    {
      "cell_type": "code",
      "metadata": {
        "id": "XwsRT8giZ-py",
        "colab_type": "code",
        "colab": {
          "base_uri": "https://localhost:8080/",
          "height": 153
        },
        "outputId": "3fd4bea4-403f-412b-e925-7b89ec91e4e4"
      },
      "source": [
        "print(\"Exericio 2\")\n",
        "soma = 0\n",
        "print('numeros Pares')\n",
        "for Pares in range(0, 10, 2):\n",
        "    soma = soma + Pares  \n",
        "    print(Pares)\n",
        "print('soma:', soma)\n",
        "     "
      ],
      "execution_count": null,
      "outputs": [
        {
          "output_type": "stream",
          "text": [
            "Exericio 2\n",
            "numeros Pares\n",
            "0\n",
            "2\n",
            "4\n",
            "6\n",
            "8\n",
            "soma: 20\n"
          ],
          "name": "stdout"
        }
      ]
    },
    {
      "cell_type": "code",
      "metadata": {
        "id": "W_NDa5Vlrt4D",
        "colab_type": "code",
        "colab": {
          "base_uri": "https://localhost:8080/",
          "height": 246
        },
        "outputId": "8fe8bbff-2371-4926-f268-0b00128bbf8d"
      },
      "source": [
        "print(\"Exercicio 3\")\n",
        "inicio = -1\n",
        "tabuada = int(input(\"Digite o numero da tabuada: \"))\n",
        "total = tabuada * 10 + 2\n",
        "for c in range(0, total, tabuada): \n",
        "     inicio +=1 \n",
        "     print(tabuada, 'x', inicio, '=', c )"
      ],
      "execution_count": 63,
      "outputs": [
        {
          "output_type": "stream",
          "text": [
            "Exercicio 3\n",
            "Digite o numero da tabuada: 6\n",
            "6 x 0 = 0\n",
            "6 x 1 = 6\n",
            "6 x 2 = 12\n",
            "6 x 3 = 18\n",
            "6 x 4 = 24\n",
            "6 x 5 = 30\n",
            "6 x 6 = 36\n",
            "6 x 7 = 42\n",
            "6 x 8 = 48\n",
            "6 x 9 = 54\n",
            "6 x 10 = 60\n"
          ],
          "name": "stdout"
        }
      ]
    },
    {
      "cell_type": "code",
      "metadata": {
        "id": "PEyg5BJK4sfV",
        "colab_type": "code",
        "colab": {
          "base_uri": "https://localhost:8080/",
          "height": 246
        },
        "outputId": "d599eec6-af7c-411b-90d6-8aa65f51f65f"
      },
      "source": [
        "print(\"Exercicio 5\")\n",
        "Velho = 60\n",
        "idosos = 0\n",
        "for c in range(0,5):\n",
        "    AnoDeNascimento = int(input('Digite o ano do seu nascimento: '))\n",
        "    Idade = 2020 - AnoDeNascimento\n",
        "    if Idade >= Velho:    \n",
        "          idosos +=1\n",
        "          print(Idade, 'anos')\n",
        "    else:\n",
        "          print(Idade, 'anos')\n",
        "print('-----------------------------------')         \n",
        "print('Pessoas acima dos 60 anos: ', idosos)"
      ],
      "execution_count": 41,
      "outputs": [
        {
          "output_type": "stream",
          "text": [
            "Exercicio 5\n",
            "Digite o ano do seu nascimento: 1990\n",
            "30 anos\n",
            "Digite o ano do seu nascimento: 1922\n",
            "98 anos\n",
            "Digite o ano do seu nascimento: 1650\n",
            "370 anos\n",
            "Digite o ano do seu nascimento: 1200\n",
            "820 anos\n",
            "Digite o ano do seu nascimento: 1588\n",
            "432 anos\n",
            "-----------------------------------\n",
            "Pessoas acima dos 60 anos:  4\n"
          ],
          "name": "stdout"
        }
      ]
    },
    {
      "cell_type": "code",
      "metadata": {
        "id": "n0stoUJF_FgC",
        "colab_type": "code",
        "colab": {}
      },
      "source": [
        ""
      ],
      "execution_count": null,
      "outputs": []
    },
    {
      "cell_type": "code",
      "metadata": {
        "id": "cU9YgwEr_P2i",
        "colab_type": "code",
        "colab": {
          "base_uri": "https://localhost:8080/",
          "height": 175
        },
        "outputId": "860ee054-e75b-4f93-8e43-e5aeacfd31b2"
      },
      "source": [
        "print(\"Exercicio 5 \")\n",
        "menorPeso = 0 \n",
        "maiorPeso = 0 \n",
        "Peso = []\n",
        "for c in range(0, 5):\n",
        "     Peso.append(int(input(f'Digite o peso {c}: ')))\n",
        "     if c == 0: \n",
        "        maisLeve = menorPeso = Peso[c]\n",
        "     else: \n",
        "       if Peso[c] > maisPesado: \n",
        "          maisPesado = Peso[c]\n",
        "       if Peso[c] < menorPeso: \n",
        "          menorPeso = Peso[c] \n",
        "print('Todos os pesos da lista: ', Peso)\n",
        "print('maior Peso ', maisPesado)\n",
        "print('menor Peso ', menorPeso)      \n"
      ],
      "execution_count": 66,
      "outputs": [
        {
          "output_type": "stream",
          "text": [
            "Exercicio 5 \n",
            "Digite o peso 0: 200\n",
            "Digite o peso 1: 200\n",
            "Digite o peso 2: 500\n",
            "Digite o peso 3: 600\n",
            "Digite o peso 4: 12\n",
            "[200, 200, 500, 600, 12]\n",
            "maior Peso  600\n",
            "menor Peso  12\n"
          ],
          "name": "stdout"
        }
      ]
    }
  ]
}